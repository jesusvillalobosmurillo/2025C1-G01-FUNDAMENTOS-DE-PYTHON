{
    "cells": [
        {
            "attachments": {},
            "cell_type": "markdown",
            "metadata": {
                "azdata_cell_guid": "43094d38-2acc-463a-bdf3-97ba90623fe5",
                "id": "a62202dd"
            },
            "source": [
                "# 📊 Caso de análisis: Emisiones de dióxido de carbono por país (1975-2017)\n",
                "## 🧠 Objetivo:\n",
                "Los estudiantes deben analizar la evolución de las emisiones de CO₂ en varios países desde 1975 hasta 2017, distinguiendo entre:\n",
                "\n",
                "- Emisiones totales: Miden la cantidad total de CO₂ emitido en un país.\n",
                "\n",
                "- Emisiones per cápita: Indican cuántas toneladas métricas de CO₂ emite, en promedio, una persona en ese país."
            ]
        },
        {
            "attachments": {},
            "cell_type": "markdown",
            "metadata": {
                "azdata_cell_guid": "aaf7af2f-c9dd-4e9e-9de1-6543ad2e0064"
            },
            "source": [
                "## <mark>Estudiante: \\> Jesus Villalobos Murillo</mark>"
            ]
        },
        {
            "cell_type": "markdown",
            "metadata": {
                "azdata_cell_guid": "5d6834bd-ea61-4f0a-b586-a118753e31a9",
                "id": "e21e6b1c"
            },
            "source": [
                "## Contexto\n"
            ]
        },
        {
            "cell_type": "markdown",
            "metadata": {
                "azdata_cell_guid": "5b449223-cfd9-4324-8796-a7688878110c",
                "id": "c4c7df65"
            },
            "source": [
                "🌍 Análisis de Emisiones de CO₂ – Caso Práctico\n",
                "📁 Archivo: Carbon_Dioxide_Emission_Estimates.csv\n",
                "Contiene datos de emisiones de dióxido de carbono (CO₂) de varios países entre 1975 y 2017.\n",
                "\n",
                "🧾 Estructura de los datos\n",
                "- Country: País\n",
                "\n",
                "- Year: Año\n",
                "\n",
                "- Type: Tipo de emisión:\n",
                "\n",
                "    * Emisiones totales (kilotoneladas métricas)\n",
                "\n",
                "    * Emisiones per cápita (toneladas métricas por persona)\n",
                "\n",
                "- Value: Valor numérico de la emisión\n",
                "\n",
                "🔍 Tipos de emisiones\n",
                "- Totales: CO₂ emitido por todo el país (kt)\n",
                "\n",
                "- Per cápita: CO₂ promedio por persona (t CO₂/persona)\n",
                "\n",
                "    - Se calcula dividiendo emisiones totales por la población"
            ]
        },
        {
            "cell_type": "code",
            "execution_count": 53,
            "metadata": {},
            "outputs": [
                {
                    "data": {
                        "text/html": [
                            "<div>\n",
                            "<style scoped>\n",
                            "    .dataframe tbody tr th:only-of-type {\n",
                            "        vertical-align: middle;\n",
                            "    }\n",
                            "\n",
                            "    .dataframe tbody tr th {\n",
                            "        vertical-align: top;\n",
                            "    }\n",
                            "\n",
                            "    .dataframe thead th {\n",
                            "        text-align: right;\n",
                            "    }\n",
                            "</style>\n",
                            "<table border=\"1\" class=\"dataframe\">\n",
                            "  <thead>\n",
                            "    <tr style=\"text-align: right;\">\n",
                            "      <th></th>\n",
                            "      <th>Country</th>\n",
                            "      <th>Year</th>\n",
                            "      <th>Type</th>\n",
                            "      <th>Value</th>\n",
                            "    </tr>\n",
                            "  </thead>\n",
                            "  <tbody>\n",
                            "    <tr>\n",
                            "      <th>0</th>\n",
                            "      <td>Albania</td>\n",
                            "      <td>1975</td>\n",
                            "      <td>Emisiones (kilotoneladas m�tricas de di�xido d...</td>\n",
                            "      <td>4338.334</td>\n",
                            "    </tr>\n",
                            "    <tr>\n",
                            "      <th>1</th>\n",
                            "      <td>Albania</td>\n",
                            "      <td>1985</td>\n",
                            "      <td>Emisiones (kilotoneladas m�tricas de di�xido d...</td>\n",
                            "      <td>6929.926</td>\n",
                            "    </tr>\n",
                            "    <tr>\n",
                            "      <th>2</th>\n",
                            "      <td>Albania</td>\n",
                            "      <td>1995</td>\n",
                            "      <td>Emisiones (kilotoneladas m�tricas de di�xido d...</td>\n",
                            "      <td>1848.549</td>\n",
                            "    </tr>\n",
                            "    <tr>\n",
                            "      <th>3</th>\n",
                            "      <td>Albania</td>\n",
                            "      <td>2005</td>\n",
                            "      <td>Emisiones (kilotoneladas m�tricas de di�xido d...</td>\n",
                            "      <td>3825.184</td>\n",
                            "    </tr>\n",
                            "    <tr>\n",
                            "      <th>4</th>\n",
                            "      <td>Albania</td>\n",
                            "      <td>2010</td>\n",
                            "      <td>Emisiones (kilotoneladas m�tricas de di�xido d...</td>\n",
                            "      <td>3930.295</td>\n",
                            "    </tr>\n",
                            "    <tr>\n",
                            "      <th>5</th>\n",
                            "      <td>Albania</td>\n",
                            "      <td>2015</td>\n",
                            "      <td>Emisiones (kilotoneladas m�tricas de di�xido d...</td>\n",
                            "      <td>3824.801</td>\n",
                            "    </tr>\n",
                            "    <tr>\n",
                            "      <th>6</th>\n",
                            "      <td>Albania</td>\n",
                            "      <td>2016</td>\n",
                            "      <td>Emisiones (kilotoneladas m�tricas de di�xido d...</td>\n",
                            "      <td>3674.183</td>\n",
                            "    </tr>\n",
                            "    <tr>\n",
                            "      <th>7</th>\n",
                            "      <td>Albania</td>\n",
                            "      <td>2017</td>\n",
                            "      <td>Emisiones (kilotoneladas m�tricas de di�xido d...</td>\n",
                            "      <td>4342.011</td>\n",
                            "    </tr>\n",
                            "    <tr>\n",
                            "      <th>8</th>\n",
                            "      <td>Albania</td>\n",
                            "      <td>1975</td>\n",
                            "      <td>Emisiones per capita (toneladas m�tricas de di...</td>\n",
                            "      <td>1.804</td>\n",
                            "    </tr>\n",
                            "    <tr>\n",
                            "      <th>9</th>\n",
                            "      <td>Albania</td>\n",
                            "      <td>1985</td>\n",
                            "      <td>Emisiones per capita (toneladas m�tricas de di...</td>\n",
                            "      <td>2.337</td>\n",
                            "    </tr>\n",
                            "  </tbody>\n",
                            "</table>\n",
                            "</div>"
                        ],
                        "text/plain": [
                            "   Country  Year                                               Type     Value\n",
                            "0  Albania  1975  Emisiones (kilotoneladas m�tricas de di�xido d...  4338.334\n",
                            "1  Albania  1985  Emisiones (kilotoneladas m�tricas de di�xido d...  6929.926\n",
                            "2  Albania  1995  Emisiones (kilotoneladas m�tricas de di�xido d...  1848.549\n",
                            "3  Albania  2005  Emisiones (kilotoneladas m�tricas de di�xido d...  3825.184\n",
                            "4  Albania  2010  Emisiones (kilotoneladas m�tricas de di�xido d...  3930.295\n",
                            "5  Albania  2015  Emisiones (kilotoneladas m�tricas de di�xido d...  3824.801\n",
                            "6  Albania  2016  Emisiones (kilotoneladas m�tricas de di�xido d...  3674.183\n",
                            "7  Albania  2017  Emisiones (kilotoneladas m�tricas de di�xido d...  4342.011\n",
                            "8  Albania  1975  Emisiones per capita (toneladas m�tricas de di...     1.804\n",
                            "9  Albania  1985  Emisiones per capita (toneladas m�tricas de di...     2.337"
                        ]
                    },
                    "execution_count": 53,
                    "metadata": {},
                    "output_type": "execute_result"
                }
            ],
            "source": [
                "# Importa el CSV como un DataFrame\n",
                "import pandas as pd\n",
                "df =  pd.read_csv('Estimaciones_Emisiones_Dioxido_Carbono.csv', encoding='utf-8')\n",
                "df.head(10) # Muestra las primeras 10 filas del DataFrame"
            ]
        },
        {
            "cell_type": "markdown",
            "metadata": {
                "azdata_cell_guid": "32151a06-fbc4-4fc0-9810-bdd34abdb6fd",
                "id": "352UFM-aEWCT"
            },
            "source": [
                "# Pregunta 0\n",
                "\n",
                "1. Crear un dataframe con el nombre de variable 'df_emisions_co2' usando únicamente las filas cuya columna 'Type' tiene el valor 'Emisiones totales de CO₂ emitidas por el país'\n",
                "\n",
                "2. Crear un dataframe con el nombre de variable 'df_emisions_co2_per_capita' usando únicamente las filas cuya columna 'Type' tiene el valor 'Emisiones promedio de CO₂ emitidas por habitante'."
            ]
        },
        {
            "cell_type": "code",
            "execution_count": 59,
            "metadata": {},
            "outputs": [
                {
                    "data": {
                        "text/html": [
                            "<div>\n",
                            "<style scoped>\n",
                            "    .dataframe tbody tr th:only-of-type {\n",
                            "        vertical-align: middle;\n",
                            "    }\n",
                            "\n",
                            "    .dataframe tbody tr th {\n",
                            "        vertical-align: top;\n",
                            "    }\n",
                            "\n",
                            "    .dataframe thead th {\n",
                            "        text-align: right;\n",
                            "    }\n",
                            "</style>\n",
                            "<table border=\"1\" class=\"dataframe\">\n",
                            "  <thead>\n",
                            "    <tr style=\"text-align: right;\">\n",
                            "      <th></th>\n",
                            "      <th>Country</th>\n",
                            "      <th>Year</th>\n",
                            "      <th>Type</th>\n",
                            "      <th>Value</th>\n",
                            "    </tr>\n",
                            "  </thead>\n",
                            "  <tbody>\n",
                            "    <tr>\n",
                            "      <th>0</th>\n",
                            "      <td>Albania</td>\n",
                            "      <td>1975</td>\n",
                            "      <td>Emisiones (kilotoneladas m�tricas de di�xido d...</td>\n",
                            "      <td>4338.334</td>\n",
                            "    </tr>\n",
                            "    <tr>\n",
                            "      <th>1</th>\n",
                            "      <td>Albania</td>\n",
                            "      <td>1985</td>\n",
                            "      <td>Emisiones (kilotoneladas m�tricas de di�xido d...</td>\n",
                            "      <td>6929.926</td>\n",
                            "    </tr>\n",
                            "    <tr>\n",
                            "      <th>2</th>\n",
                            "      <td>Albania</td>\n",
                            "      <td>1995</td>\n",
                            "      <td>Emisiones (kilotoneladas m�tricas de di�xido d...</td>\n",
                            "      <td>1848.549</td>\n",
                            "    </tr>\n",
                            "    <tr>\n",
                            "      <th>3</th>\n",
                            "      <td>Albania</td>\n",
                            "      <td>2005</td>\n",
                            "      <td>Emisiones (kilotoneladas m�tricas de di�xido d...</td>\n",
                            "      <td>3825.184</td>\n",
                            "    </tr>\n",
                            "    <tr>\n",
                            "      <th>4</th>\n",
                            "      <td>Albania</td>\n",
                            "      <td>2010</td>\n",
                            "      <td>Emisiones (kilotoneladas m�tricas de di�xido d...</td>\n",
                            "      <td>3930.295</td>\n",
                            "    </tr>\n",
                            "    <tr>\n",
                            "      <th>...</th>\n",
                            "      <td>...</td>\n",
                            "      <td>...</td>\n",
                            "      <td>...</td>\n",
                            "      <td>...</td>\n",
                            "    </tr>\n",
                            "    <tr>\n",
                            "      <th>2119</th>\n",
                            "      <td>Zimbabwe</td>\n",
                            "      <td>2005</td>\n",
                            "      <td>Emisiones (kilotoneladas m�tricas de di�xido d...</td>\n",
                            "      <td>10272.774</td>\n",
                            "    </tr>\n",
                            "    <tr>\n",
                            "      <th>2120</th>\n",
                            "      <td>Zimbabwe</td>\n",
                            "      <td>2010</td>\n",
                            "      <td>Emisiones (kilotoneladas m�tricas de di�xido d...</td>\n",
                            "      <td>9464.714</td>\n",
                            "    </tr>\n",
                            "    <tr>\n",
                            "      <th>2121</th>\n",
                            "      <td>Zimbabwe</td>\n",
                            "      <td>2015</td>\n",
                            "      <td>Emisiones (kilotoneladas m�tricas de di�xido d...</td>\n",
                            "      <td>11822.362</td>\n",
                            "    </tr>\n",
                            "    <tr>\n",
                            "      <th>2122</th>\n",
                            "      <td>Zimbabwe</td>\n",
                            "      <td>2016</td>\n",
                            "      <td>Emisiones (kilotoneladas m�tricas de di�xido d...</td>\n",
                            "      <td>10368.900</td>\n",
                            "    </tr>\n",
                            "    <tr>\n",
                            "      <th>2123</th>\n",
                            "      <td>Zimbabwe</td>\n",
                            "      <td>2017</td>\n",
                            "      <td>Emisiones (kilotoneladas m�tricas de di�xido d...</td>\n",
                            "      <td>9714.938</td>\n",
                            "    </tr>\n",
                            "  </tbody>\n",
                            "</table>\n",
                            "<p>1066 rows × 4 columns</p>\n",
                            "</div>"
                        ],
                        "text/plain": [
                            "       Country  Year                                               Type  \\\n",
                            "0      Albania  1975  Emisiones (kilotoneladas m�tricas de di�xido d...   \n",
                            "1      Albania  1985  Emisiones (kilotoneladas m�tricas de di�xido d...   \n",
                            "2      Albania  1995  Emisiones (kilotoneladas m�tricas de di�xido d...   \n",
                            "3      Albania  2005  Emisiones (kilotoneladas m�tricas de di�xido d...   \n",
                            "4      Albania  2010  Emisiones (kilotoneladas m�tricas de di�xido d...   \n",
                            "...        ...   ...                                                ...   \n",
                            "2119  Zimbabwe  2005  Emisiones (kilotoneladas m�tricas de di�xido d...   \n",
                            "2120  Zimbabwe  2010  Emisiones (kilotoneladas m�tricas de di�xido d...   \n",
                            "2121  Zimbabwe  2015  Emisiones (kilotoneladas m�tricas de di�xido d...   \n",
                            "2122  Zimbabwe  2016  Emisiones (kilotoneladas m�tricas de di�xido d...   \n",
                            "2123  Zimbabwe  2017  Emisiones (kilotoneladas m�tricas de di�xido d...   \n",
                            "\n",
                            "          Value  \n",
                            "0      4338.334  \n",
                            "1      6929.926  \n",
                            "2      1848.549  \n",
                            "3      3825.184  \n",
                            "4      3930.295  \n",
                            "...         ...  \n",
                            "2119  10272.774  \n",
                            "2120   9464.714  \n",
                            "2121  11822.362  \n",
                            "2122  10368.900  \n",
                            "2123   9714.938  \n",
                            "\n",
                            "[1066 rows x 4 columns]"
                        ]
                    },
                    "execution_count": 59,
                    "metadata": {},
                    "output_type": "execute_result"
                }
            ],
            "source": [
                "# Crea una copia del DataFrame filtrando Emisiones Kilotoneladas\n",
                "df_emisions_co2 = df.copy()\n",
                "df_emisions_co2 = df[df['Type'] == 'Emisiones (kilotoneladas m�tricas de di�xido de carbono)']\n",
                "df_emisions_co2"
            ]
        },
        {
            "cell_type": "code",
            "execution_count": 61,
            "metadata": {},
            "outputs": [
                {
                    "data": {
                        "text/html": [
                            "<div>\n",
                            "<style scoped>\n",
                            "    .dataframe tbody tr th:only-of-type {\n",
                            "        vertical-align: middle;\n",
                            "    }\n",
                            "\n",
                            "    .dataframe tbody tr th {\n",
                            "        vertical-align: top;\n",
                            "    }\n",
                            "\n",
                            "    .dataframe thead th {\n",
                            "        text-align: right;\n",
                            "    }\n",
                            "</style>\n",
                            "<table border=\"1\" class=\"dataframe\">\n",
                            "  <thead>\n",
                            "    <tr style=\"text-align: right;\">\n",
                            "      <th></th>\n",
                            "      <th>Country</th>\n",
                            "      <th>Year</th>\n",
                            "      <th>Type</th>\n",
                            "      <th>Value</th>\n",
                            "    </tr>\n",
                            "  </thead>\n",
                            "  <tbody>\n",
                            "    <tr>\n",
                            "      <th>8</th>\n",
                            "      <td>Albania</td>\n",
                            "      <td>1975</td>\n",
                            "      <td>Emisiones per capita (toneladas m�tricas de di...</td>\n",
                            "      <td>1.804</td>\n",
                            "    </tr>\n",
                            "    <tr>\n",
                            "      <th>9</th>\n",
                            "      <td>Albania</td>\n",
                            "      <td>1985</td>\n",
                            "      <td>Emisiones per capita (toneladas m�tricas de di...</td>\n",
                            "      <td>2.337</td>\n",
                            "    </tr>\n",
                            "    <tr>\n",
                            "      <th>10</th>\n",
                            "      <td>Albania</td>\n",
                            "      <td>1995</td>\n",
                            "      <td>Emisiones per capita (toneladas m�tricas de di...</td>\n",
                            "      <td>0.580</td>\n",
                            "    </tr>\n",
                            "    <tr>\n",
                            "      <th>11</th>\n",
                            "      <td>Albania</td>\n",
                            "      <td>2005</td>\n",
                            "      <td>Emisiones per capita (toneladas m�tricas de di...</td>\n",
                            "      <td>1.270</td>\n",
                            "    </tr>\n",
                            "    <tr>\n",
                            "      <th>12</th>\n",
                            "      <td>Albania</td>\n",
                            "      <td>2010</td>\n",
                            "      <td>Emisiones per capita (toneladas m�tricas de di...</td>\n",
                            "      <td>1.349</td>\n",
                            "    </tr>\n",
                            "    <tr>\n",
                            "      <th>...</th>\n",
                            "      <td>...</td>\n",
                            "      <td>...</td>\n",
                            "      <td>...</td>\n",
                            "      <td>...</td>\n",
                            "    </tr>\n",
                            "    <tr>\n",
                            "      <th>2127</th>\n",
                            "      <td>Zimbabwe</td>\n",
                            "      <td>2005</td>\n",
                            "      <td>Emisiones per capita (toneladas m�tricas de di...</td>\n",
                            "      <td>0.794</td>\n",
                            "    </tr>\n",
                            "    <tr>\n",
                            "      <th>2128</th>\n",
                            "      <td>Zimbabwe</td>\n",
                            "      <td>2010</td>\n",
                            "      <td>Emisiones per capita (toneladas m�tricas de di...</td>\n",
                            "      <td>0.672</td>\n",
                            "    </tr>\n",
                            "    <tr>\n",
                            "      <th>2129</th>\n",
                            "      <td>Zimbabwe</td>\n",
                            "      <td>2015</td>\n",
                            "      <td>Emisiones per capita (toneladas m�tricas de di...</td>\n",
                            "      <td>0.749</td>\n",
                            "    </tr>\n",
                            "    <tr>\n",
                            "      <th>2130</th>\n",
                            "      <td>Zimbabwe</td>\n",
                            "      <td>2016</td>\n",
                            "      <td>Emisiones per capita (toneladas m�tricas de di...</td>\n",
                            "      <td>0.642</td>\n",
                            "    </tr>\n",
                            "    <tr>\n",
                            "      <th>2131</th>\n",
                            "      <td>Zimbabwe</td>\n",
                            "      <td>2017</td>\n",
                            "      <td>Emisiones per capita (toneladas m�tricas de di...</td>\n",
                            "      <td>0.588</td>\n",
                            "    </tr>\n",
                            "  </tbody>\n",
                            "</table>\n",
                            "<p>1066 rows × 4 columns</p>\n",
                            "</div>"
                        ],
                        "text/plain": [
                            "       Country  Year                                               Type  Value\n",
                            "8      Albania  1975  Emisiones per capita (toneladas m�tricas de di...  1.804\n",
                            "9      Albania  1985  Emisiones per capita (toneladas m�tricas de di...  2.337\n",
                            "10     Albania  1995  Emisiones per capita (toneladas m�tricas de di...  0.580\n",
                            "11     Albania  2005  Emisiones per capita (toneladas m�tricas de di...  1.270\n",
                            "12     Albania  2010  Emisiones per capita (toneladas m�tricas de di...  1.349\n",
                            "...        ...   ...                                                ...    ...\n",
                            "2127  Zimbabwe  2005  Emisiones per capita (toneladas m�tricas de di...  0.794\n",
                            "2128  Zimbabwe  2010  Emisiones per capita (toneladas m�tricas de di...  0.672\n",
                            "2129  Zimbabwe  2015  Emisiones per capita (toneladas m�tricas de di...  0.749\n",
                            "2130  Zimbabwe  2016  Emisiones per capita (toneladas m�tricas de di...  0.642\n",
                            "2131  Zimbabwe  2017  Emisiones per capita (toneladas m�tricas de di...  0.588\n",
                            "\n",
                            "[1066 rows x 4 columns]"
                        ]
                    },
                    "execution_count": 61,
                    "metadata": {},
                    "output_type": "execute_result"
                }
            ],
            "source": [
                "\n",
                "#Crea un copia del original filtrado como df_emisions_co2_per_capita\n",
                "df_emisions_co2_per_capita = df[df['Type'] == 'Emisiones per capita (toneladas m�tricas de di�xido de carbono)']\n",
                "df_emisions_co2_per_capita"
            ]
        },
        {
            "cell_type": "markdown",
            "metadata": {
                "azdata_cell_guid": "66dbee89-6a74-42d6-b532-a95779ccc82a",
                "id": "d6bd6661"
            },
            "source": [
                "# Pregunta 1"
            ]
        },
        {
            "cell_type": "markdown",
            "metadata": {
                "azdata_cell_guid": "b30cf472-64d8-453a-b581-4d01915e9a38",
                "id": "3299b6b5"
            },
            "source": [
                "Cuántas filas tiene el dataframe 'df_emisions_co2'?"
            ]
        },
        {
            "cell_type": "code",
            "execution_count": 67,
            "metadata": {
                "azdata_cell_guid": "63fba01e-a296-4e37-badf-df51ee463964",
                "id": "f02d60cc",
                "language": "python"
            },
            "outputs": [
                {
                    "name": "stdout",
                    "output_type": "stream",
                    "text": [
                        "la cantidad de filas del data frame es: 1066\n"
                    ]
                }
            ],
            "source": [
                "# Coloque el código que responda a la pregunta aqui\n",
                "print('la cantidad de filas del data frame es:', (len(df_emisions_co2)))\n"
            ]
        },
        {
            "cell_type": "markdown",
            "metadata": {
                "azdata_cell_guid": "5f8f7bed-99e7-4c3b-b621-d430915552a9",
                "id": "880f891d"
            },
            "source": [
                "# Pregunta 2"
            ]
        },
        {
            "cell_type": "markdown",
            "metadata": {
                "azdata_cell_guid": "3025751b-734d-491a-a0f2-e454076155fa",
                "id": "34700c9d"
            },
            "source": [
                "Cuál en el valor más alto de emisiones (en general) usando el dataframe 'df_emisions_co2'?"
            ]
        },
        {
            "cell_type": "code",
            "execution_count": 68,
            "metadata": {
                "azdata_cell_guid": "675d06d0-c52d-4848-8c84-b3503476d7e3",
                "id": "24bdf93a",
                "language": "python"
            },
            "outputs": [
                {
                    "name": "stdout",
                    "output_type": "stream",
                    "text": [
                        "El valor mas alto de emisiones de CO2 es: 9257933.9\n"
                    ]
                }
            ],
            "source": [
                "# Coloque el código que responda a la pregunta aqui exactamente lo que se pregunta\n",
                "print ('El valor mas alto de emisiones de CO2 es:', df_emisions_co2['Value'].max())\n"
            ]
        },
        {
            "cell_type": "markdown",
            "metadata": {
                "azdata_cell_guid": "97637f7a-fb3b-4b24-a6e8-769427d8c984",
                "id": "7ebd3621"
            },
            "source": [
                "# Pregunta 3"
            ]
        },
        {
            "cell_type": "markdown",
            "metadata": {
                "azdata_cell_guid": "4f9d7b44-d0e8-4705-8fa0-9a84d56774cf",
                "id": "eb81f1c8"
            },
            "source": [
                "Cuántos países (Countries) hay en el dataframe 'df_emisions_co2'?"
            ]
        },
        {
            "cell_type": "code",
            "execution_count": 69,
            "metadata": {
                "azdata_cell_guid": "207fdf39-e7dd-4ac4-b3f4-a129a75f2a6d",
                "id": "4f60454b",
                "language": "python"
            },
            "outputs": [
                {
                    "name": "stdout",
                    "output_type": "stream",
                    "text": [
                        "La cantidad de paises en el data frame es: 142\n"
                    ]
                }
            ],
            "source": [
                "# Coloque el código que responda a la pregunta aqui exactamente lo que se pregunta\n",
                "print ('La cantidad de paises en el data frame es:', (len(df_emisions_co2['Country'].unique())))"
            ]
        },
        {
            "cell_type": "code",
            "execution_count": 70,
            "metadata": {
                "azdata_cell_guid": "52f1ec4f-654f-43c8-a541-2fe225b3a476",
                "id": "2f46faa0",
                "language": "python"
            },
            "outputs": [
                {
                    "name": "stdout",
                    "output_type": "stream",
                    "text": [
                        "La lista de paises es: ['Albania' 'Algeria' 'Angola' 'Argentina' 'Armenia' 'Australia' 'Austria'\n",
                        " 'Azerbaijan' 'Bahrain' 'Bangladesh' 'Belarus' 'Belgium' 'Benin'\n",
                        " 'Bolivia (Plurin. State of)' 'Bosnia and Herzegovina' 'Botswana' 'Brazil'\n",
                        " 'Brunei Darussalam' 'Bulgaria' 'Cambodia' 'Cameroon' 'Canada' 'Chile'\n",
                        " 'China' 'China Hong Kong SAR' 'Colombia' 'Congo' 'Costa Rica'\n",
                        " 'Côte d’Ivoire' 'Croatia' 'Cuba' 'Curaçao' 'Cyprus' 'Czechia'\n",
                        " \"Dem. People's Rep. Korea\" 'Dem. Rep. of the Congo' 'Denmark'\n",
                        " 'Dominican Republic' 'Ecuador' 'Egypt' 'El Salvador' 'Eritrea' 'Estonia'\n",
                        " 'Ethiopia' 'Finland' 'France' 'Gabon' 'Georgia' 'Germany' 'Ghana'\n",
                        " 'Gibraltar' 'Greece' 'Guatemala' 'Haiti' 'Honduras' 'Hungary' 'Iceland'\n",
                        " 'India' 'Indonesia' 'Iran (Islamic Republic of)' 'Iraq' 'Ireland'\n",
                        " 'Israel' 'Italy' 'Jamaica' 'Japan' 'Jordan' 'Kazakhstan' 'Kenya' 'Kosovo'\n",
                        " 'Kuwait' 'Kyrgyzstan' 'Latvia' 'Lebanon' 'Libya' 'Lithuania' 'Luxembourg'\n",
                        " 'Malaysia' 'Malta' 'Mauritius' 'Mexico' 'Mongolia' 'Montenegro' 'Morocco'\n",
                        " 'Mozambique' 'Myanmar' 'Namibia' 'Nepal' 'Netherlands' 'New Zealand'\n",
                        " 'Nicaragua' 'Niger' 'Nigeria' 'Norway' 'Oman' 'Pakistan' 'Panama'\n",
                        " 'Paraguay' 'Peru' 'Philippines' 'Poland' 'Portugal' 'Qatar'\n",
                        " 'Republic of Korea' 'Republic of Moldova' 'Romania' 'Russian Federation'\n",
                        " 'Saudi Arabia' 'Senegal' 'Serbia' 'Singapore' 'Slovakia' 'Slovenia'\n",
                        " 'South Africa' 'South Sudan' 'Spain' 'Sri Lanka' 'Sudan' 'Suriname'\n",
                        " 'Sweden' 'Switzerland' 'Syrian Arab Republic' 'Tajikistan' 'Thailand'\n",
                        " 'North Macedonia' 'Togo' 'Trinidad and Tobago' 'Tunisia' 'Turkey'\n",
                        " 'Turkmenistan' 'Ukraine' 'United Arab Emirates' 'United Kingdom'\n",
                        " 'United Rep. of Tanzania' 'United States of America' 'Uruguay'\n",
                        " 'Uzbekistan' 'Venezuela (Boliv. Rep. of)' 'Viet Nam' 'Yemen' 'Zambia'\n",
                        " 'Zimbabwe']\n"
                    ]
                }
            ],
            "source": [
                "#Imprima un lista con todos los paises}\n",
                "print ('La lista de paises es:', df_emisions_co2['Country'].unique())"
            ]
        },
        {
            "cell_type": "markdown",
            "metadata": {
                "azdata_cell_guid": "30e5c2d6-95aa-4bda-ad89-2b581a214d82",
                "id": "1e40352a"
            },
            "source": [
                "# Pregunta 4"
            ]
        },
        {
            "cell_type": "markdown",
            "metadata": {
                "azdata_cell_guid": "d4c1a6a0-d184-4feb-9c6e-a934c52d0343",
                "id": "80c46908"
            },
            "source": [
                "Cuál es el país que tiene mayor emisiones usando el dataframe 'df_emisions_co2'?"
            ]
        },
        {
            "cell_type": "code",
            "execution_count": 71,
            "metadata": {
                "azdata_cell_guid": "ee5ff21c-8288-42a9-9212-4d88ff639e85",
                "id": "e6df7d42",
                "language": "python"
            },
            "outputs": [
                {
                    "name": "stdout",
                    "output_type": "stream",
                    "text": [
                        "El pais con mayor cantidad de emisiones de CO2 es: China\n"
                    ]
                }
            ],
            "source": [
                "# Coloque el código que responda a la pregunta aqui exactamente lo que se pregunta\n",
                "print ('El pais con mayor cantidad de emisiones de CO2 es:', df_emisions_co2.loc[df_emisions_co2['Value'].idxmax()]['Country'])\n"
            ]
        },
        {
            "cell_type": "markdown",
            "metadata": {
                "azdata_cell_guid": "da6c194b-ecdd-42b0-82ca-210d6b74f57f",
                "id": "26c97fde"
            },
            "source": [
                "# Pregunta 5"
            ]
        },
        {
            "cell_type": "markdown",
            "metadata": {
                "azdata_cell_guid": "a5cf8867-358a-40cb-9933-027dd8e06aa3",
                "id": "541f44ca"
            },
            "source": [
                "Cuál es el año que tiene mayor emisiones para el país de Spain usando el dataframe 'df_emisions_co2'?"
            ]
        },
        {
            "cell_type": "code",
            "execution_count": 75,
            "metadata": {
                "azdata_cell_guid": "10e7e0fe-162a-4b2a-a01e-db2bd04b6865",
                "id": "c32f62d1",
                "language": "python"
            },
            "outputs": [
                {
                    "name": "stdout",
                    "output_type": "stream",
                    "text": [
                        "El año con mayor emision de CO2 en España es: 2005\n"
                    ]
                }
            ],
            "source": [
                "# Coloque el código que responda a la pregunta aqui exactamente lo que se pregunta\n",
                "españa_data = df_emisions_co2[df_emisions_co2['Country'] == 'Spain']\n",
                "emision_maxima = españa_data.loc[españa_data['Value'].idxmax(), 'Year']\n",
                "print('El año con mayor emision de CO2 en España es:', emision_maxima)"
            ]
        },
        {
            "cell_type": "markdown",
            "metadata": {
                "azdata_cell_guid": "78a2c35d-5ca9-4cc2-9890-05b367218238",
                "id": "55ce4564"
            },
            "source": [
                "# Pregunta 6"
            ]
        },
        {
            "cell_type": "markdown",
            "metadata": {
                "azdata_cell_guid": "048ff587-0368-4c8c-930d-678786aa18c3",
                "id": "3473e4f2"
            },
            "source": [
                "Cuáles son los años que se tiene registros para el dataframe 'df_emisions_co2_per_capita'?\n",
                "\n",
                "Entrege una lista con los años sin repetirse"
            ]
        },
        {
            "cell_type": "code",
            "execution_count": 76,
            "metadata": {
                "azdata_cell_guid": "75d9cbc6-d254-49d4-8cfc-7b0f74456608",
                "id": "5ad50924",
                "language": "python"
            },
            "outputs": [
                {
                    "name": "stdout",
                    "output_type": "stream",
                    "text": [
                        "Los años registrados para la emision per capita de CO2 son: [1975 1985 1995 2005 2010 2015 2016 2017]\n"
                    ]
                }
            ],
            "source": [
                "# Coloque el código que responda a la pregunta aqui exactamente lo que se pregunta\n",
                "print ('Los años registrados para la emision per capita de CO2 son:', df_emisions_co2_per_capita['Year'].unique())"
            ]
        },
        {
            "cell_type": "markdown",
            "metadata": {
                "azdata_cell_guid": "8cee75a7-4fcc-47eb-883a-641aa900bc51",
                "id": "18fa522e"
            },
            "source": [
                "# Pregunta 7"
            ]
        },
        {
            "cell_type": "markdown",
            "metadata": {
                "azdata_cell_guid": "8532f291-3bd2-4da4-9eb3-7ac69e49b4a5",
                "id": "2747ce42"
            },
            "source": [
                "Cuántas son las emisiones en 'kilotoneladas métricas' en total usando todos los países para usando el dataframe 'df_emisions_co2'?\n"
            ]
        },
        {
            "cell_type": "code",
            "execution_count": 77,
            "metadata": {
                "azdata_cell_guid": "3b4710af-d857-49ce-9b19-931839541d39",
                "id": "e8cbd117",
                "language": "python"
            },
            "outputs": [
                {
                    "name": "stdout",
                    "output_type": "stream",
                    "text": [
                        "La cantidad total de kilotoneladas emitidas son: 195028250.41599998\n"
                    ]
                }
            ],
            "source": [
                "# Coloque el código que responda a la pregunta aqui exactamente lo que se pregunta\n",
                "print ('La cantidad total de kilotoneladas emitidas son:', df_emisions_co2['Value'].sum())"
            ]
        },
        {
            "cell_type": "markdown",
            "metadata": {
                "azdata_cell_guid": "ddfe093b-e52f-4379-8062-efedfbddb684",
                "id": "42aa86db"
            },
            "source": [
                "# Pregunta 8"
            ]
        },
        {
            "cell_type": "markdown",
            "metadata": {
                "azdata_cell_guid": "ce742599-a5c4-41c7-87f1-7a881676c09f",
                "id": "a303974d"
            },
            "source": [
                "Cuántas son las emisiones en 'kilotoneladas métricas' sólo para Albania usando el dataframe 'df_emisions_co2'?\n"
            ]
        },
        {
            "cell_type": "code",
            "execution_count": 78,
            "metadata": {
                "azdata_cell_guid": "86c46d24-2812-47a3-aa64-fd2d6981cf9a",
                "id": "181ab815",
                "language": "python"
            },
            "outputs": [
                {
                    "name": "stdout",
                    "output_type": "stream",
                    "text": [
                        " La cantidad emitida por Albania es: 32713.283000000003\n"
                    ]
                }
            ],
            "source": [
                "# Coloque el código que responda a la pregunta aqui exactamente lo que se pregunta\n",
                "print (' La cantidad emitida por Albania es:', df_emisions_co2[df_emisions_co2['Country'] == 'Albania']['Value'].sum())"
            ]
        },
        {
            "cell_type": "markdown",
            "metadata": {
                "azdata_cell_guid": "5d5b3bfb-2643-45d0-ba92-b53affb67c17",
                "id": "d084c9f3"
            },
            "source": [
                "# Pregunta 9"
            ]
        },
        {
            "cell_type": "markdown",
            "metadata": {
                "azdata_cell_guid": "acd10e28-cde4-48c3-bba9-eee6323b06cc",
                "id": "ae9cebff"
            },
            "source": [
                "Cuántas son las emisiones totales en 'libras' sólo para Costa Rica usando el dataframe 'df_emisions_co2'?\n"
            ]
        },
        {
            "cell_type": "code",
            "execution_count": 79,
            "metadata": {
                "azdata_cell_guid": "8c372164-c8f6-4e72-9fd3-2b7c1eaf0499",
                "id": "ee97d492",
                "language": "python"
            },
            "outputs": [
                {
                    "name": "stdout",
                    "output_type": "stream",
                    "text": [
                        "La cantidad de toneladas emitidas por Costa Rica es: 93086016856993.1\n"
                    ]
                }
            ],
            "source": [
                "# Coloque el código que responda a la pregunta aqui exactamente lo que se pregunta\n",
                "def kt_a_lb(kilotoneladas):\n",
                "    return kilotoneladas * 2204622621.85\n",
                "print ('La cantidad de toneladas emitidas por Costa Rica es:', kt_a_lb(df_emisions_co2[df_emisions_co2['Country'] == 'Costa Rica']['Value'].sum()))"
            ]
        },
        {
            "cell_type": "markdown",
            "metadata": {
                "azdata_cell_guid": "e505d100-2c39-45a3-9c7d-70c1f83b268d",
                "id": "eb6dfc54"
            },
            "source": [
                "# Pregunta 10"
            ]
        },
        {
            "cell_type": "markdown",
            "metadata": {
                "azdata_cell_guid": "cfe25701-d219-459b-a108-75787ee1f8ae",
                "id": "5862817e"
            },
            "source": [
                "Para sólo 'Costa Rica' y suponiendo que las emisiones se estancan a partir del último año reportado (se mantiene igual). Cuántas son las emisiones en 'Kg' sólo para Costa Rica en el año desde el ultimo año hasta el 2025 usando el dataframe 'df_emisions_co2'?\n"
            ]
        },
        {
            "cell_type": "code",
            "execution_count": 83,
            "metadata": {
                "azdata_cell_guid": "c65ecf97-b679-4808-91cc-fe771ce12b6b",
                "id": "76ed009c",
                "language": "python"
            },
            "outputs": [
                {
                    "name": "stdout",
                    "output_type": "stream",
                    "text": [
                        "La cantidad de toneladas emitidas por Costa Rica es: 7584411000.0\n"
                    ]
                }
            ],
            "source": [
                "# Coloque el código que responda a la pregunta aqui exactamente lo que se pregunta\n",
                "def kt_a_kg(kilotoneladas):\n",
                "    return kilotoneladas * 1000000\n",
                "print('La cantidad de toneladas emitidas por Costa Rica es:', kt_a_kg(df_emisions_co2[df_emisions_co2['Country'] == 'Costa Rica']['Value'].iloc[-1]))\n",
                "\n"
            ]
        },
        {
            "cell_type": "markdown",
            "metadata": {
                "azdata_cell_guid": "46cbe15c-fe3e-440c-8d83-8c8f73e4d5a7",
                "id": "1c18874b"
            },
            "source": [
                "# Pregunta 12"
            ]
        },
        {
            "cell_type": "markdown",
            "metadata": {
                "azdata_cell_guid": "14dc18b7-8bdb-41a5-a5eb-34da63fef812",
                "id": "6a487c43"
            },
            "source": [
                "Para sólo los países de Centroamérica ['El Salvador', 'Honduras', 'Guatemala', 'Costa Rica', 'Nicaragua'] obtener un reporte por año de las emisiones totales en Centroamérica usando el dataframe 'df_emisions_co2'?\n",
                "Se espera un dataframe de 2 columnas: 'Year' y 'total_por_año'"
            ]
        },
        {
            "cell_type": "code",
            "execution_count": 84,
            "metadata": {
                "azdata_cell_guid": "ba31d64d-a10b-4275-b19e-86f3e18984b6",
                "id": "1d0426bf",
                "language": "python"
            },
            "outputs": [
                {
                    "data": {
                        "text/html": [
                            "<div>\n",
                            "<style scoped>\n",
                            "    .dataframe tbody tr th:only-of-type {\n",
                            "        vertical-align: middle;\n",
                            "    }\n",
                            "\n",
                            "    .dataframe tbody tr th {\n",
                            "        vertical-align: top;\n",
                            "    }\n",
                            "\n",
                            "    .dataframe thead th {\n",
                            "        text-align: right;\n",
                            "    }\n",
                            "</style>\n",
                            "<table border=\"1\" class=\"dataframe\">\n",
                            "  <thead>\n",
                            "    <tr style=\"text-align: right;\">\n",
                            "      <th></th>\n",
                            "      <th>Year</th>\n",
                            "      <th>Value</th>\n",
                            "    </tr>\n",
                            "  </thead>\n",
                            "  <tbody>\n",
                            "    <tr>\n",
                            "      <th>0</th>\n",
                            "      <td>1975</td>\n",
                            "      <td>9860.972</td>\n",
                            "    </tr>\n",
                            "    <tr>\n",
                            "      <th>1</th>\n",
                            "      <td>1985</td>\n",
                            "      <td>10250.333</td>\n",
                            "    </tr>\n",
                            "    <tr>\n",
                            "      <th>2</th>\n",
                            "      <td>1995</td>\n",
                            "      <td>20960.234</td>\n",
                            "    </tr>\n",
                            "    <tr>\n",
                            "      <th>3</th>\n",
                            "      <td>2005</td>\n",
                            "      <td>33562.291</td>\n",
                            "    </tr>\n",
                            "    <tr>\n",
                            "      <th>4</th>\n",
                            "      <td>2010</td>\n",
                            "      <td>34533.555</td>\n",
                            "    </tr>\n",
                            "    <tr>\n",
                            "      <th>5</th>\n",
                            "      <td>2015</td>\n",
                            "      <td>43107.376</td>\n",
                            "    </tr>\n",
                            "    <tr>\n",
                            "      <th>6</th>\n",
                            "      <td>2016</td>\n",
                            "      <td>44366.072</td>\n",
                            "    </tr>\n",
                            "    <tr>\n",
                            "      <th>7</th>\n",
                            "      <td>2017</td>\n",
                            "      <td>43556.261</td>\n",
                            "    </tr>\n",
                            "  </tbody>\n",
                            "</table>\n",
                            "</div>"
                        ],
                        "text/plain": [
                            "   Year      Value\n",
                            "0  1975   9860.972\n",
                            "1  1985  10250.333\n",
                            "2  1995  20960.234\n",
                            "3  2005  33562.291\n",
                            "4  2010  34533.555\n",
                            "5  2015  43107.376\n",
                            "6  2016  44366.072\n",
                            "7  2017  43556.261"
                        ]
                    },
                    "execution_count": 84,
                    "metadata": {},
                    "output_type": "execute_result"
                }
            ],
            "source": [
                "# Coloque el código que responda a la pregunta aqui exactamente lo que se pregunta\n",
                "df_centroamerica = df_emisions_co2[df_emisions_co2['Country'].isin(['Costa Rica', 'El Salvador', 'Guatemala', 'Honduras', 'Nicaragua'])]\n",
                "df_centroamerica = df_centroamerica.groupby('Year')['Value'].sum().reset_index()\n",
                "df_centroamerica"
            ]
        },
        {
            "cell_type": "markdown",
            "metadata": {
                "azdata_cell_guid": "77c94d71-c324-4495-88c1-90cb5953b117",
                "id": "8fdaae3d"
            },
            "source": [
                "# Pregunta 13"
            ]
        },
        {
            "cell_type": "markdown",
            "metadata": {
                "azdata_cell_guid": "e4379b6f-d518-49e9-ba6a-181999caae36",
                "id": "8a7e17ff"
            },
            "source": [
                "Para sólo los países de Centroamérica ['El Salvador', 'Honduras', 'Guatemala', 'Costa Rica', 'Nicaragua'] obtener un reporte por año de las emisiones en promedio en Centroamérica usando el dataframe 'df_emisions_co2_per_capita'?\n",
                "Se espera un dataframe de 2 columnas: 'Year' y 'promedio_por_año'"
            ]
        },
        {
            "cell_type": "code",
            "execution_count": 90,
            "metadata": {
                "azdata_cell_guid": "b8107b3d-4b45-45e3-9c3e-2e20c56ed7a9",
                "id": "4ec787f4",
                "language": "python"
            },
            "outputs": [
                {
                    "data": {
                        "text/html": [
                            "<div>\n",
                            "<style scoped>\n",
                            "    .dataframe tbody tr th:only-of-type {\n",
                            "        vertical-align: middle;\n",
                            "    }\n",
                            "\n",
                            "    .dataframe tbody tr th {\n",
                            "        vertical-align: top;\n",
                            "    }\n",
                            "\n",
                            "    .dataframe thead th {\n",
                            "        text-align: right;\n",
                            "    }\n",
                            "</style>\n",
                            "<table border=\"1\" class=\"dataframe\">\n",
                            "  <thead>\n",
                            "    <tr style=\"text-align: right;\">\n",
                            "      <th></th>\n",
                            "      <th>Year</th>\n",
                            "      <th>Value</th>\n",
                            "    </tr>\n",
                            "  </thead>\n",
                            "  <tbody>\n",
                            "    <tr>\n",
                            "      <th>0</th>\n",
                            "      <td>1975</td>\n",
                            "      <td>2.845</td>\n",
                            "    </tr>\n",
                            "    <tr>\n",
                            "      <th>1</th>\n",
                            "      <td>1985</td>\n",
                            "      <td>2.310</td>\n",
                            "    </tr>\n",
                            "    <tr>\n",
                            "      <th>2</th>\n",
                            "      <td>1995</td>\n",
                            "      <td>3.813</td>\n",
                            "    </tr>\n",
                            "    <tr>\n",
                            "      <th>3</th>\n",
                            "      <td>2005</td>\n",
                            "      <td>4.860</td>\n",
                            "    </tr>\n",
                            "    <tr>\n",
                            "      <th>4</th>\n",
                            "      <td>2010</td>\n",
                            "      <td>4.769</td>\n",
                            "    </tr>\n",
                            "    <tr>\n",
                            "      <th>5</th>\n",
                            "      <td>2015</td>\n",
                            "      <td>5.286</td>\n",
                            "    </tr>\n",
                            "    <tr>\n",
                            "      <th>6</th>\n",
                            "      <td>2016</td>\n",
                            "      <td>5.360</td>\n",
                            "    </tr>\n",
                            "    <tr>\n",
                            "      <th>7</th>\n",
                            "      <td>2017</td>\n",
                            "      <td>5.211</td>\n",
                            "    </tr>\n",
                            "  </tbody>\n",
                            "</table>\n",
                            "</div>"
                        ],
                        "text/plain": [
                            "   Year  Value\n",
                            "0  1975  2.845\n",
                            "1  1985  2.310\n",
                            "2  1995  3.813\n",
                            "3  2005  4.860\n",
                            "4  2010  4.769\n",
                            "5  2015  5.286\n",
                            "6  2016  5.360\n",
                            "7  2017  5.211"
                        ]
                    },
                    "execution_count": 90,
                    "metadata": {},
                    "output_type": "execute_result"
                }
            ],
            "source": [
                "# Coloque el código que responda a la pregunta aqui exactamente lo que se pregunta\n",
                "df_centroamerica_per_capita = df_emisions_co2_per_capita[df_emisions_co2_per_capita['Country'].isin(['Costa Rica', 'El Salvador', 'Guatemala', 'Honduras', 'Nicaragua'])]\n",
                "df_centroamerica = df_centroamerica_per_capita.groupby('Year')['Value'].sum().reset_index()\n",
                "\n",
                "df_centroamerica[['Year', 'Value']]\n"
            ]
        },
        {
            "cell_type": "markdown",
            "metadata": {
                "azdata_cell_guid": "0a62ff93-d68b-48da-b993-51cc40362107",
                "id": "944ac865"
            },
            "source": [
                "# Pregunta 14"
            ]
        },
        {
            "cell_type": "markdown",
            "metadata": {
                "azdata_cell_guid": "3f87f1b5-8bed-42ed-aba4-3b2244324e40",
                "id": "b961da55"
            },
            "source": [
                "Cuál es el promedio de las emisiones per capita para el año 2005 usando el dataframe 'df_emisions_co2_per_capita'?\n"
            ]
        },
        {
            "cell_type": "code",
            "execution_count": 91,
            "metadata": {
                "azdata_cell_guid": "fe76819d-d78b-4923-9982-967e36223207",
                "id": "e2f0a786",
                "language": "python"
            },
            "outputs": [
                {
                    "name": "stdout",
                    "output_type": "stream",
                    "text": [
                        "El promedio de emisiones en el año 2005 es: 5.29775\n"
                    ]
                }
            ],
            "source": [
                "# Coloque el código que responda a la pregunta aqui exactamente lo que se pregunta\n",
                "print ('El promedio de emisiones en el año 2005 es:', df_emisions_co2_per_capita[df_emisions_co2_per_capita['Year'] == 2005]['Value'].mean())"
            ]
        },
        {
            "cell_type": "markdown",
            "metadata": {},
            "source": [
                "# Pregunta 15\n",
                "\n",
                "Usa el dataframe  'df_emisions_co2_per_capita' con las columnas Year y promedio_por_año para crear una gráfica de líneas que muestre la evolución del promedio de emisiones per cápita en Centroamérica a lo largo del tiempo; el eje X debe ser el año y el eje Y el promedio de emisiones."
            ]
        },
        {
            "cell_type": "code",
            "execution_count": 98,
            "metadata": {},
            "outputs": [
                {
                    "data": {
                        "image/png": "[encoded data removed]",
                        "text/plain": [
                            "<Figure size 640x480 with 1 Axes>"
                        ]
                    },
                    "metadata": {},
                    "output_type": "display_data"
                }
            ],
            "source": [
                "# Coloque el código que responda a la pregunta aqui exactamente lo que se pregunta\n",
                "import matplotlib.pyplot as plt\n",
                "\n",
                "# Calculate the mean of 'Value' for each year\n",
                "promedio_emision = df_centroamerica_per_capita.groupby('Year')['Value'].mean().reset_index()\n",
                "\n",
                "# Plot the data\n",
                "plt.plot(promedio_emision['Year'], promedio_emision['Value'], marker='o')\n",
                "plt.title('Evolución de las emisiones de CO2 per capita en Centroamérica')\n",
                "plt.xlabel('Año')\n",
                "plt.ylabel('Promedio de emision en toneladas metricas', size=12)\n",
                "plt.grid(True)\n",
                "plt.show()"
            ]
        }
    ],
    "metadata": {
        "colab": {
            "provenance": []
        },
        "kernelspec": {
            "display_name": "Python 3",
            "language": "python",
            "name": "python3"
        },
        "language_info": {
            "codemirror_mode": {
                "name": "ipython",
                "version": 3
            },
            "file_extension": ".py",
            "mimetype": "text/x-python",
            "name": "python",
            "nbconvert_exporter": "python",
            "pygments_lexer": "ipython3",
            "version": "3.13.2"
        }
    },
    "nbformat": 4,
    "nbformat_minor": 2
}
