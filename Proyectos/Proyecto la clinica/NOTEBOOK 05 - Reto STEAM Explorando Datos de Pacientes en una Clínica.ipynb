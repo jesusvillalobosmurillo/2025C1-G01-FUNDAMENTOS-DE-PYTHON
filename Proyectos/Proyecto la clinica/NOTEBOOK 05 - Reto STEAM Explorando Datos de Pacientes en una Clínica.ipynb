{
 "cells": [
  {
   "cell_type": "markdown",
   "metadata": {
    "azdata_cell_guid": "e738b43d-fda9-409b-9e4e-f356323e1dbc"
   },
   "source": [
    "# Reto Bootcamp STEAM: Explorando Datos de Pacientes en una Clínica\n",
    "## Fundamentos de Python | UMCA\n",
    "## Profesor: Ing. Andrés Mena Abarca\n",
    "### <mark>**Nombre del estudiante:**</mark> Jesus Villalobos y Jorsuhat\n",
    "* * *"
   ]
  },
  {
   "attachments": {},
   "cell_type": "markdown",
   "metadata": {
    "azdata_cell_guid": "5a9661f6-9c22-438b-8530-debb92fea2ff"
   },
   "source": [
    "¡Bienvenidos al reto STEAM! Hoy serás parte de un equipo de científicos de datos que está desarrollando una aplicación para analizar los datos de los pacientes de una clínica. Este proyecto se integra dentro del enfoque STEAM, donde no solo usaremos habilidades de programación y análisis, sino también creatividad, visualización y reflexión crítica para mejorar la experiencia de salud.\n",
    "\n",
    "En este reto, utilizaremos **Python** para analizar datos clínicos reales y responder preguntas importantes sobre la salud de los pacientes. También diseñarás soluciones creativas y colaborarás con tus compañeros para mejorar la aplicación.\n",
    "\n",
    "### Contexto:\n",
    "\n",
    "El director de la clínica te ha encargado que construyas un sistema que pueda analizar la información de los pacientes, entender las enfermedades tratadas, los medicamentos recetados y comparar pacientes.\n",
    "\n",
    "### Objetivos del Reto:\n",
    "1. Aplicar estructuras básicas de Python como listas y ciclos.\n",
    "2. Leer datos desde un archivo JSON y almacenarlos en listas.\n",
    "3. Realizar análisis de datos sobre enfermedades y medicamentos.\n",
    "4. Visualizar y comunicar los resultados de manera creativa.\n",
    "\n",
    "### Fase Creativa STEAM:\n",
    "- **Ciencia y Tecnología:** Analizarás los datos clínicos.\n",
    "- **Ingeniería:** Implementarás las soluciones utilizando estructuras de Python.\n",
    "- **Arte y Matemáticas:** Visualizarás los resultados de manera atractiva y clara.\n",
    "\n",
    "¡Comencemos!\n",
    "\n",
    "## Cargar y Leer los Datos de Pacientes"
   ]
  },
  {
   "cell_type": "code",
   "execution_count": null,
   "metadata": {
    "azdata_cell_guid": "65553934-e4e4-4b44-aa2e-b234d1a33667",
    "language": "python"
   },
   "outputs": [],
   "source": [
    "import json #es el comando para importar una libreria\n",
    "\n",
    "#cargar archivo\n",
    "with open ('clinica.json',encoding='utf-8') as archivo:\n",
    "    datos_pacientes = json.load(archivo)\n",
    "    print('Datos de los pacientes cargados con éxito!\\n')\n",
    "\n",
    "for paciente in datos_pacientes:\n",
    "    print(paciente)\n",
    "\n",
    "\n",
    "    \n"
   ]
  },
  {
   "attachments": {},
   "cell_type": "markdown",
   "metadata": {
    "azdata_cell_guid": "27d04572-8b5b-46fa-b3ee-4ed3f2939a34",
    "language": "python"
   },
   "source": [
    "## Desafío 1: Análisis Científico - Reporte de Enfermedades Tratadas\n",
    "\n",
    "Tu primer reto es analizar los datos de los pacientes para generar un reporte de las enfermedades tratadas en la clínica. Utiliza listas y ciclos para contar cuántos pacientes han sido tratados por cada enfermedad.\n",
    "\n",
    "### Instrucciones:\n",
    "\n",
    "1. Crea una lista vacía donde almacenarás las enfermedades.\n",
    "2. Recorre los datos de los pacientes y extrae la enfermedad de cada paciente.\n",
    "3. Cuenta cuántos pacientes han sido tratados por cada enfermedad.\n",
    "4. Visualiza los resultados de manera clara utilizando la técnica que elijas (gráficos o tablas).\n",
    "\n",
    "### Preguntas:\n",
    "\n",
    "- ¿Qué enfermedades son las más tratadas en la clínica?\n",
    "- ¿Hay alguna enfermedad que te sorprenda por su prevalencia?\n",
    "\n"
   ]
  },
  {
   "attachments": {},
   "cell_type": "markdown",
   "metadata": {
    "azdata_cell_guid": "4b7c571d-d8f2-4d72-9f79-9718986200eb"
   },
   "source": [
    "### **Paso a Paso para el Estudiante**\n",
    "\n",
    "#### **Paso 1: Crear las Listas**\n",
    "\n",
    "### \n",
    "\n",
    "1. **Objetivo:** Necesitamos dos listas para almacenar:\n",
    "    \n",
    "    - Los nombres de las enfermedades.\n",
    "    - La cantidad de veces que cada enfermedad aparece.\n",
    "2. **Instrucción:**\n",
    "    \n",
    "    - Crea una lista vacía llamada `lista_enfermedades`.\n",
    "    - Crea otra lista vacía llamada `lista_cantidades`."
   ]
  },
  {
   "cell_type": "code",
   "execution_count": null,
   "metadata": {
    "azdata_cell_guid": "61977840-044f-4cb3-858a-1812c43f3e2b",
    "language": "python"
   },
   "outputs": [],
   "source": [
    "# Lista para almacenar las enfermedades y sus cantidades\n",
    "lista_enfermedades = []\n",
    "frecuencias = []\n",
    "\n"
   ]
  },
  {
   "attachments": {},
   "cell_type": "markdown",
   "metadata": {
    "azdata_cell_guid": "549b6c62-76c6-4412-ae94-4d7a0ebd790d"
   },
   "source": [
    "#### **Paso 2: Recorrer los Datos de los Pacientes**\n",
    "\n",
    "### \n",
    "\n",
    "1. **Objetivo:** Vamos a analizar cada paciente para extraer su enfermedad.\n",
    "    \n",
    "2. **Instrucción:**\n",
    "    \n",
    "    - Usa un bucle `for` para recorrer cada `paciente` en `datos_pacientes` (ya está definida en el código como una lista de listas).\n",
    "    - Dentro del bucle, asigna la enfermedad del paciente (índice `4` de cada lista) a una variable llamada `enfermedad`."
   ]
  },
  {
   "cell_type": "code",
   "execution_count": null,
   "metadata": {
    "azdata_cell_guid": "eaf15439-71de-42c1-b0d3-c4ee8210cf05",
    "language": "python"
   },
   "outputs": [],
   "source": [
    "# Extraemos la enfermedad del paciente\n",
    "#Puedes imprimir el for para ver los datos que se procesan\n",
    "for paciente in datos_pacientes:\n",
    "    enfermedad = paciente[4]\n",
    "    print(enfermedad)\n"
   ]
  },
  {
   "attachments": {},
   "cell_type": "markdown",
   "metadata": {
    "azdata_cell_guid": "d587b0f6-79f4-4a71-bcaf-837bd0c31bee",
    "language": "python"
   },
   "source": [
    "#### **Paso 3: Verificar si la Enfermedad ya Está en la Lista**\n",
    "\n",
    "1. **Objetivo:** Verificar si la enfermedad ya fue registrada.\n",
    "    \n",
    "2. **Instrucción:**\n",
    "    \n",
    "    - Usa un `if` para verificar si la `enfermedad` ya está en `lista_enfermedades`.\n",
    "    - Si **no** está en `lista_enfermedades`, agrega la enfermedad a `lista_enfermedades` y añade `1` a `lista_cantidades` para contarla por primera vez.\n",
    "    - Si **sí** está en `lista_enfermedades`, encuentra la posición (`indice`) de la enfermedad en `lista_enfermedades` y aumenta en `1` el valor en `lista_cantidades` en la misma posición."
   ]
  },
  {
   "cell_type": "code",
   "execution_count": null,
   "metadata": {
    "azdata_cell_guid": "f5cffccc-7f3a-45f8-b203-53faac8d2ab0",
    "language": "python"
   },
   "outputs": [],
   "source": [
    "# Pista: Usa `in` para verificar si la enfermedad ya está en lista_enfermedades.\n",
    "# Pista: Si la enfermedad no está, agrégala a lista_enfermedades y empieza el conteo en lista_cantidades.\n",
    "# Pista: Si la enfermedad ya está, usa `index` para encontrar su posición en lista_enfermedades y suma 1 en lista_cantidades en esa posición.\n",
    "for paciente in datos_pacientes:\n",
    "    enfermedad = paciente[4]\n",
    "    if enfermedad in lista_enfermedades:\n",
    "        #LA ENFERMEDAD YA FUE REGISTRADA\n",
    "        index = lista_enfermedades.index(enfermedad)\n",
    "        frecuencias[index] += 1   \n",
    "    else:\n",
    "        #agrego enfermedades nuevas en la lista\n",
    "         lista_enfermedades.append(enfermedad)\n",
    "         frecuencias.append(1)\n",
    "        \n",
    "print(lista_enfermedades)\n",
    "print(frecuencias)"
   ]
  },
  {
   "attachments": {},
   "cell_type": "markdown",
   "metadata": {
    "azdata_cell_guid": "2ceed8f4-0a9a-48ac-ba0d-d48dc319ab9f",
    "language": "python"
   },
   "source": [
    "#### **Paso 4: Imprimir el Reporte Final**\n",
    "\n",
    "1. **Objetivo:** Mostrar el número de pacientes con cada enfermedad.\n",
    "    \n",
    "2. **Instrucción:**\n",
    "    \n",
    "    - Usa un bucle `for` para recorrer la lista `lista_enfermedades`.\n",
    "    - En cada iteración, imprime la enfermedad y el número de pacientes (que está en `lista_cantidades` en la misma posición)."
   ]
  },
  {
   "cell_type": "code",
   "execution_count": null,
   "metadata": {
    "azdata_cell_guid": "5368c6bd-5224-4c6f-a5ad-ef6767750039",
    "language": "python"
   },
   "outputs": [],
   "source": [
    "print(\"Reporte de enfermedades tratadas:\")\n",
    "for index in range(len(lista_enfermedades)):\n",
    "    print(f\"La enfermedad {lista_enfermedades[index]}: se diagnostico en {frecuencias[index]} pacientes\")"
   ]
  },
  {
   "attachments": {},
   "cell_type": "markdown",
   "metadata": {
    "azdata_cell_guid": "02262547-dabe-40b9-9ef0-5863dcad648b",
    "language": "python"
   },
   "source": [
    "### **Resumen Completo del Código**\n",
    "\n",
    "En ésta celda resume el código completo que debería tener al final para la solución del ejercicio:"
   ]
  },
  {
   "cell_type": "code",
   "execution_count": 36,
   "metadata": {
    "azdata_cell_guid": "fb7ea25e-c906-4f7e-9265-dd63d3193b54",
    "language": "python"
   },
   "outputs": [
    {
     "name": "stdout",
     "output_type": "stream",
     "text": [
      "Datos de los pacientes cargados con éxito!\n",
      "\n",
      "['116640019', 61727979, 'San José', 'Desamparados', 'gripe', 'acetaminofen']\n",
      "['603240305', 60534319, 'Heredia', 'Santo Domingo', 'gastritis', 'antiácido']\n",
      "['503980535', 70713699, 'Alajuela', 'San Carlos', 'tos', 'jarabe']\n",
      "['702370234', 70693575, 'Cartago', 'Paraíso', 'migraña', 'acetaminofen']\n",
      "['116310912', 88070036, 'San José', 'Curridabat', 'dolor', 'acetaminofen']\n",
      "['604830325', 83155658, 'Puntarenas', 'Osa', 'gripe', 'acetaminofen']\n",
      "['116130052', 64069212, 'Guanacaste', 'Liberia', 'gastritis', 'antiácido']\n",
      "['111860150', 88447416, 'Limón', 'Puerto Viejo', 'diabetes', 'insulina']\n",
      "['110283', 61088556, 'San José', 'Escazú', 'asma', 'salbutamol']\n",
      "['503810832', 83076969, 'Heredia', 'Barva', 'gripe', 'acetaminofen']\n",
      "['114740407', 70112487, 'Cartago', 'Turrialba', 'hipotiroidismo', 'levotiroxina']\n",
      "['205750691', 83349456, 'San José', 'Montes de Oca', 'alergias', 'loratadina']\n",
      "['215487963', 78823654, 'Guanacaste', 'Nicoya', 'migraña', 'acetaminofen']\n",
      "['318540762', 65892345, 'Alajuela', 'Grecia', 'presión alta', 'amlodipino']\n",
      "['457821904', 72908475, 'Cartago', 'Oreamuno', 'dolor de espalda', 'ibuprofeno']\n",
      "['602948176', 61928374, 'Heredia', 'Belén', 'ansiedad', 'clonazepam']\n",
      "['703219485', 63487294, 'Limón', 'Guápiles', 'diabetes', 'insulina']\n",
      "['825613092', 72845312, 'Puntarenas', 'Coto Brus', 'asma', 'salbutamol']\n",
      "['908124753', 71239485, 'San José', 'Moravia', 'alergias', 'cetirizina']\n",
      "['103927564', 63749562, 'Heredia', 'San Isidro', 'gastritis', 'omeprazol']\n",
      "['200145879', 78546932, 'Guanacaste', 'Santa Cruz', 'presión alta', 'losartán']\n",
      "['305946278', 65849371, 'Puntarenas', 'Golfito', 'tos', 'jarabe']\n",
      "['412598764', 73284956, 'San José', 'Tibás', 'dolor de espalda', 'paracetamol']\n",
      "['507812394', 69231875, 'Cartago', 'El Guarco', 'ansiedad', 'diazepam']\n",
      "['602938574', 61249375, 'Limón', 'Siquirres', 'diabetes', 'metformina']\n",
      "['715498372', 74938261, 'Alajuela', 'Atenas', 'asma', 'fluticasona']\n",
      "['823654091', 69829375, 'San José', 'Pérez Zeledón', 'alergias', 'loratadina']\n",
      "['912475683', 73485629, 'Cartago', 'Jiménez', 'hipotiroidismo', 'levotiroxina']\n",
      "['104598273', 68597312, 'Heredia', 'San Rafael', 'gripe', 'acetaminofen']\n",
      "['205963184', 71928364, 'Puntarenas', 'Esparza', 'gastritis', 'pantoprazol']\n",
      "['301456897', 64395721, 'San José', 'Alajuelita', 'migraña', 'ibuprofeno']\n",
      "['401598723', 71928574, 'Limón', 'Matina', 'presión alta', 'enalapril']\n",
      "['510298374', 62938475, 'Guanacaste', 'Bagaces', 'asma', 'salbutamol']\n",
      "['621095837', 75928346, 'Cartago', 'Turrialba', 'diabetes', 'insulina']\n",
      "['732145609', 68495731, 'Heredia', 'Flores', 'dolor', 'acetaminofen']\n",
      "['802149357', 72938475, 'San José', 'Goicoechea', 'gastritis', 'omeprazol']\n",
      "['913256748', 65849371, 'Puntarenas', 'Buenos Aires', 'presión alta', 'amlodipino']\n",
      "['102548397', 67293857, 'Limón', 'Talamanca', 'asma', 'salbutamol']\n",
      "['204985763', 74583925, 'Guanacaste', 'Carrillo', 'gripe', 'acetaminofen']\n",
      "['gripe', 'gastritis', 'tos', 'migraña', 'dolor', 'diabetes', 'asma', 'hipotiroidismo', 'alergias', 'presión alta', 'dolor de espalda', 'ansiedad']\n",
      "[5, 5, 2, 3, 2, 4, 5, 2, 3, 4, 2, 2]\n",
      "Reporte de enfermedades tratadas:\n",
      "La enfermedad gripe: se diagnostico en 5 pacientes\n",
      "La enfermedad gastritis: se diagnostico en 5 pacientes\n",
      "La enfermedad tos: se diagnostico en 2 pacientes\n",
      "La enfermedad migraña: se diagnostico en 3 pacientes\n",
      "La enfermedad dolor: se diagnostico en 2 pacientes\n",
      "La enfermedad diabetes: se diagnostico en 4 pacientes\n",
      "La enfermedad asma: se diagnostico en 5 pacientes\n",
      "La enfermedad hipotiroidismo: se diagnostico en 2 pacientes\n",
      "La enfermedad alergias: se diagnostico en 3 pacientes\n",
      "La enfermedad presión alta: se diagnostico en 4 pacientes\n",
      "La enfermedad dolor de espalda: se diagnostico en 2 pacientes\n",
      "La enfermedad ansiedad: se diagnostico en 2 pacientes\n"
     ]
    }
   ],
   "source": [
    "#Esta parte puedes colocar todos los bloques de las celdas anteriores \n",
    "import json #es el comando para importar una libreria\n",
    "\n",
    "#cargar archivo\n",
    "with open ('clinica_intermedio.json',encoding='utf-8') as archivo:\n",
    "    datos_pacientes = json.load(archivo)\n",
    "    print('Datos de los pacientes cargados con éxito!\\n')\n",
    "\n",
    "for paciente in datos_pacientes:\n",
    "    print(paciente)\n",
    "# Lista para almacenar las enfermedades y sus cantidades\n",
    "lista_enfermedades = []\n",
    "frecuencias = []\n",
    "# Extraemos la enfermedad del paciente\n",
    "#Puedes imprimir el for para ver los datos que se procesan\n",
    "for paciente in datos_pacientes:\n",
    "    enfermedad = paciente[4]\n",
    "    \n",
    "# Pista: Usa `in` para verificar si la enfermedad ya está en lista_enfermedades.\n",
    "# Pista: Si la enfermedad no está, agrégala a lista_enfermedades y empieza el conteo en lista_cantidades.\n",
    "# Pista: Si la enfermedad ya está, usa `index` para encontrar su posición en lista_enfermedades y suma 1 en lista_cantidades en esa posición.\n",
    "for paciente in datos_pacientes:\n",
    "    enfermedad = paciente[4]\n",
    "    if enfermedad in lista_enfermedades:\n",
    "        #LA ENFERMEDAD YA FUE REGISTRADA\n",
    "        index = lista_enfermedades.index(enfermedad)\n",
    "        frecuencias[index] += 1   \n",
    "    else:\n",
    "        #agrego enfermedades nuevas en la lista\n",
    "         lista_enfermedades.append(enfermedad)\n",
    "         frecuencias.append(1)\n",
    "        \n",
    "print(lista_enfermedades)\n",
    "print(frecuencias)\n",
    "print(\"Reporte de enfermedades tratadas:\")\n",
    "for index in range(len(lista_enfermedades)):\n",
    "    print(f\"La enfermedad {lista_enfermedades[index]}: se diagnostico en {frecuencias[index]} pacientes\")"
   ]
  },
  {
   "attachments": {},
   "cell_type": "markdown",
   "metadata": {
    "azdata_cell_guid": "babcfd28-f173-4adb-b593-c5cf58370bc0",
    "language": "python"
   },
   "source": [
    "## Desafío 2: Exploración Tecnológica - Reporte de Medicamentos Recetados\n",
    "\n",
    "Ahora que ya tienes el reporte de las enfermedades tratadas, es momento de explorar qué medicamentos se están recetando en la clínica. Tu tarea es generar un reporte similar al anterior, pero esta vez debes contar cuántos pacientes han recibido cada medicamento.\n",
    "\n",
    "### Instrucciones:\n",
    "\n",
    "1. Almacena los medicamentos recetados en una lista.\n",
    "2. Recorre los datos y cuenta cuántos pacientes han recibido cada medicamento.\n",
    "3. Visualiza los resultados de manera creativa.\n",
    "\n",
    "### Preguntas:\n",
    "\n",
    "- ¿Qué medicamentos son los más recetados?\n",
    "- ¿Cómo podrías optimizar el uso de medicamentos en la clínica?\n",
    "\n",
    "Resultados esperados: \n",
    "\n",
    "```\n",
    "Reporte de medicamentos recetados:\n",
    "acetaminofen: 9 pacientes\n",
    "antiácido: 2 pacientes\n",
    "jarabe: 2 pacientes\n",
    "insulina: 3 pacientes\n",
    "salbutamol: 4 pacientes\n",
    "levotiroxina: 2 pacientes\n",
    "............................................\n",
    "\n",
    "```"
   ]
  },
  {
   "cell_type": "code",
   "execution_count": 2,
   "metadata": {
    "azdata_cell_guid": "85051147-a5a3-40e9-a423-179ac721be03",
    "language": "python"
   },
   "outputs": [
    {
     "name": "stdout",
     "output_type": "stream",
     "text": [
      "['acetaminofen', 'antiacido', 'jarabe']\n",
      "[7, 1, 2]\n",
      "Reporte de medicamentos recetados:\n",
      "\n",
      " acetaminofen: 7 pacientes\n",
      " antiacido: 1 pacientes\n",
      " jarabe: 2 pacientes\n"
     ]
    }
   ],
   "source": [
    "# Listas para almacenar los medicamentos y sus frecuencias\n",
    "medicamentos1 = []\n",
    "frecuencias2 = []\n",
    "for medicamentos in datos_pacientes:\n",
    "    medicamentos = medicamentos[5]\n",
    "    if medicamentos in medicamentos1:\n",
    "        index = medicamentos1.index(medicamentos)\n",
    "        frecuencias2[index] += 1\n",
    "    else:\n",
    "        medicamentos1.append(medicamentos)\n",
    "        frecuencias2.append(1)\n",
    "print(medicamentos1)\n",
    "print(frecuencias2)\n",
    "\n",
    "print(\"Reporte de medicamentos recetados:\\n\")\n",
    "for index in range(len(medicamentos1)):\n",
    "    print(f\" {medicamentos1[index]}: {frecuencias2[index]} pacientes\")\n",
    "\n",
    "    \n",
    "    \n",
    "  \n",
    "\n",
    "\n",
    "\n"
   ]
  },
  {
   "attachments": {},
   "cell_type": "markdown",
   "metadata": {
    "azdata_cell_guid": "e75d82f8-c903-459c-b6b4-3cdc9d23ac5c"
   },
   "source": [
    "## Desafío 3: Ingeniería - Comparar Pacientes por Identificación\n",
    "\n",
    "Este desafío te permitirá comparar dos pacientes de la clínica en base a sus identificaciones. Tu objetivo es averiguar:\n",
    "\n",
    "1. **¿Qué enfermedades tienen en común?**\n",
    "2. **¿Qué medicamentos toman en común?**\n",
    "\n",
    "### Instrucciones:\n",
    "\n",
    "1. Solicita dos identificaciones de pacientes al usuario.\n",
    "2. Extrae las enfermedades y medicamentos de esos dos pacientes.\n",
    "3. Compara las enfermedades y medicamentos y muestra los resultados.\n",
    "\n",
    "### Preguntas:\n",
    "\n",
    "- ¿Qué enfermedades y medicamentos son comunes en los pacientes comparados?\n",
    "- ¿Qué información adicional podrías incluir para mejorar esta comparación?\n"
   ]
  },
  {
   "cell_type": "code",
   "execution_count": 41,
   "metadata": {
    "azdata_cell_guid": "26417c6c-aa5d-41a9-b7c7-fa268a476a6d",
    "language": "python",
    "tags": []
   },
   "outputs": [
    {
     "name": "stdout",
     "output_type": "stream",
     "text": [
      "Los pacientes no han sido tratados con los mismos medicamentos\n",
      "Los pacientes no han sido diagnosticados con la misma enfermedad\n",
      "el paciente 116640019 nos visita de Desamparados y el paciente 111860150 nos visita de Puerto Viejo\n"
     ]
    }
   ],
   "source": [
    "# Pedimos las identificaciones de los dos pacientes\n",
    "\n",
    "paciente1 = input(\"Ingrese la identificación del primer paciente: \")\n",
    "paciente2 = input(\"Ingrese la identificación del segundo paciente: \")\n",
    "\n",
    "visitas_paciente1 = []\n",
    "visitas_paciente2 = []\n",
    "medicamentos_paciente1 = []\n",
    "medicamentos_paciente2 = []\n",
    "enfermedades_paciente1 = []\n",
    "enfermedades_paciente2 = []\n",
    "lugar_paciente1 = []\n",
    "lugar_paciente2 = []\n",
    "\n",
    "# Buscamos los pacientes en los datos cargados\n",
    "for paciente in datos_pacientes:\n",
    "    if paciente[0] == paciente1:\n",
    "        visitas_paciente1.append(paciente)\n",
    "    elif paciente[0] == paciente2:\n",
    "        visitas_paciente2.append(paciente)\n",
    "\n",
    "# Verificamos si los pacientes han sido tratados con los mismos medicamentos y diagnosticados con la misma enfermedad\n",
    "\n",
    "for medicamento in visitas_paciente1:\n",
    "    medicamento = medicamento[5]\n",
    "    medicamentos_paciente1.append(medicamento)\n",
    "    \n",
    "    \n",
    "for medicamento in visitas_paciente2:\n",
    "    medicamento = medicamento[5]\n",
    "    medicamentos_paciente2.append(medicamento)\n",
    "\n",
    "if medicamentos_paciente1 == medicamentos_paciente2:\n",
    "    print(\"Los pacientes han sido tratados con los mismos medicamentos\", medicamento)\n",
    "else:\n",
    "    print(\"Los pacientes no han sido tratados con los mismos medicamentos\")\n",
    "\n",
    "\n",
    "for enfermedad in visitas_paciente1:\n",
    "    enfermedad = enfermedad[4]  \n",
    "    enfermedades_paciente1.append(enfermedad)\n",
    "\n",
    "for enfermedad in visitas_paciente2:\n",
    "    enfermedad = enfermedad[4]  \n",
    "    enfermedades_paciente2.append(enfermedad)\n",
    "\n",
    "if enfermedades_paciente1 == enfermedades_paciente2:\n",
    "    print(\"Los pacientes han sido diagnosticados con la misma enfermedad\", enfermedad)\n",
    "else:\n",
    "    print(\"Los pacientes no han sido diagnosticados con la misma enfermedad\")\n",
    "    \n",
    "# vamos a ver de donde viene los pacientes\n",
    "\n",
    "for lugar in visitas_paciente1:\n",
    "    lugar = lugar[3]        \n",
    "    lugar_paciente1.append(lugar)\n",
    "\n",
    "for lugar in visitas_paciente2:\n",
    "    lugar = lugar[3]\n",
    "    lugar_paciente2.append(lugar)\n",
    " \n",
    "if lugar_paciente1 == lugar_paciente2:\n",
    "    print(\"Los pacientes nos visitan del mismo lugar\", lugar)\n",
    "else:\n",
    "    print(f\"el paciente {paciente1} nos visita de {lugar_paciente1[0]} y el paciente {paciente2} nos visita de {lugar_paciente2[0]}\")\n",
    "\n",
    "    \n",
    "\n",
    "    \n",
    "\n",
    "\n",
    "\n",
    "\n",
    "\n"
   ]
  },
  {
   "attachments": {},
   "cell_type": "markdown",
   "metadata": {
    "azdata_cell_guid": "ac71941a-8e0d-4ea1-98ff-b293ecd8defb",
    "language": "python"
   },
   "source": [
    "## Desafío Final: Arte y Matemáticas - Visualización Creativa y Reflexión\n",
    "\n",
    "Has llegado al último desafío, ¡felicidades! Ahora es momento de presentar tus resultados de una forma creativa. Tu tarea será utilizar **gráficos**, **tablas** o incluso **arte digital** para mostrar tus descubrimientos sobre los datos de los pacientes de la clínica.\n",
    "\n",
    "\n",
    "### Preguntas:\n",
    "\n",
    "- ¿Qué patrones encontraste en los datos?\n",
    "- ¿Cómo podrías usar estos análisis para mejorar la atención de los pacientes?"
   ]
  }
 ],
 "metadata": {
  "kernelspec": {
   "display_name": "Python 3",
   "language": "python",
   "name": "python3"
  },
  "language_info": {
   "codemirror_mode": {
    "name": "ipython",
    "version": 3
   },
   "file_extension": ".py",
   "mimetype": "text/x-python",
   "name": "python",
   "nbconvert_exporter": "python",
   "pygments_lexer": "ipython3",
   "version": "3.13.2"
  }
 },
 "nbformat": 4,
 "nbformat_minor": 2
}
